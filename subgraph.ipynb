{
 "cells": [
  {
   "cell_type": "code",
   "execution_count": 2,
   "metadata": {},
   "outputs": [],
   "source": [
    "import pandas as pd"
   ]
  },
  {
   "cell_type": "code",
   "execution_count": 1,
   "metadata": {},
   "outputs": [],
   "source": [
    "import networkx as nx\n",
    "G=nx.DiGraph() \n",
    "\n",
    "#Creating the graph\n",
    "\n",
    "with open(\"wiki-topcats-reduced.txt\") as f:\n",
    "    for line in f:\n",
    "        list1 = line.strip().split(\"\\t\")\n",
    "        G.add_node(list1[0])\n",
    "        G.add_edge(list1[0],list1[1])\n",
    "\n",
    "### adding attribute 'Category' to each node of the graph\n",
    "\n",
    "for i in G:\n",
    "    G.node[i]['Category']=[]\n",
    "    \n",
    "from collections import defaultdict\n",
    "category_dict = defaultdict()\n",
    "\n",
    "with open(\"wiki-topcats-categories.txt\", \"r\") as f:\n",
    "    lst2=G.nodes()\n",
    "    for line in f:\n",
    "        cat_list = line.strip().split(\";\")\n",
    "        category = cat_list[0][9:]\n",
    "        lst = cat_list[1].strip().split(\" \")\n",
    "        if len(lst) > 3500:   \n",
    "            \n",
    "            lst1=[el for el in lst if el in lst2]\n",
    "            category_dict[category] = lst1\n",
    "\n",
    "#Assign attributes to each node\n",
    "for cat in category_dict:\n",
    "    lst = category_dict[cat]\n",
    "    for e in lst:\n",
    "        if e in G:\n",
    "            G.node[e]['Category'].append(cat)"
   ]
  },
  {
   "cell_type": "code",
   "execution_count": 15,
   "metadata": {},
   "outputs": [],
   "source": [
    "dfg=pd.read_csv('Graphdf.csv')\n",
    "dfg1 = pd.read_csv('Graphdf1.csv')"
   ]
  },
  {
   "cell_type": "code",
   "execution_count": 31,
   "metadata": {},
   "outputs": [
    {
     "data": {
      "text/html": [
       "<div>\n",
       "<style scoped>\n",
       "    .dataframe tbody tr th:only-of-type {\n",
       "        vertical-align: middle;\n",
       "    }\n",
       "\n",
       "    .dataframe tbody tr th {\n",
       "        vertical-align: top;\n",
       "    }\n",
       "\n",
       "    .dataframe thead th {\n",
       "        text-align: right;\n",
       "    }\n",
       "</style>\n",
       "<table border=\"1\" class=\"dataframe\">\n",
       "  <thead>\n",
       "    <tr style=\"text-align: right;\">\n",
       "      <th></th>\n",
       "      <th>Category</th>\n",
       "      <th>Distance</th>\n",
       "    </tr>\n",
       "  </thead>\n",
       "  <tbody>\n",
       "    <tr>\n",
       "      <th>0</th>\n",
       "      <td>Members_of_the_United_Kingdom_Parliament_for_E...</td>\n",
       "      <td>7.000000</td>\n",
       "    </tr>\n",
       "    <tr>\n",
       "      <th>1</th>\n",
       "      <td>Living_people</td>\n",
       "      <td>8.000000</td>\n",
       "    </tr>\n",
       "    <tr>\n",
       "      <th>2</th>\n",
       "      <td>Harvard_University_alumni</td>\n",
       "      <td>8.000000</td>\n",
       "    </tr>\n",
       "    <tr>\n",
       "      <th>3</th>\n",
       "      <td>Year_of_birth_missing_(living_people)</td>\n",
       "      <td>8.000000</td>\n",
       "    </tr>\n",
       "    <tr>\n",
       "      <th>4</th>\n",
       "      <td>English_footballers</td>\n",
       "      <td>9.000000</td>\n",
       "    </tr>\n",
       "    <tr>\n",
       "      <th>5</th>\n",
       "      <td>Major_League_Baseball_pitchers</td>\n",
       "      <td>9.000000</td>\n",
       "    </tr>\n",
       "    <tr>\n",
       "      <th>6</th>\n",
       "      <td>English_cricketers</td>\n",
       "      <td>9.000000</td>\n",
       "    </tr>\n",
       "    <tr>\n",
       "      <th>7</th>\n",
       "      <td>Rivers_of_Romania</td>\n",
       "      <td>9.000000</td>\n",
       "    </tr>\n",
       "    <tr>\n",
       "      <th>8</th>\n",
       "      <td>The_Football_League_players</td>\n",
       "      <td>inf</td>\n",
       "    </tr>\n",
       "    <tr>\n",
       "      <th>9</th>\n",
       "      <td>Association_football_forwards</td>\n",
       "      <td>inf</td>\n",
       "    </tr>\n",
       "    <tr>\n",
       "      <th>10</th>\n",
       "      <td>Association_football_goalkeepers</td>\n",
       "      <td>inf</td>\n",
       "    </tr>\n",
       "    <tr>\n",
       "      <th>11</th>\n",
       "      <td>Association_football_midfielders</td>\n",
       "      <td>inf</td>\n",
       "    </tr>\n",
       "    <tr>\n",
       "      <th>12</th>\n",
       "      <td>Association_football_defenders</td>\n",
       "      <td>inf</td>\n",
       "    </tr>\n",
       "    <tr>\n",
       "      <th>13</th>\n",
       "      <td>Year_of_birth_unknown</td>\n",
       "      <td>inf</td>\n",
       "    </tr>\n",
       "    <tr>\n",
       "      <th>14</th>\n",
       "      <td>Year_of_death_missing</td>\n",
       "      <td>inf</td>\n",
       "    </tr>\n",
       "    <tr>\n",
       "      <th>15</th>\n",
       "      <td>Main_Belt_asteroids</td>\n",
       "      <td>inf</td>\n",
       "    </tr>\n",
       "  </tbody>\n",
       "</table>\n",
       "</div>"
      ],
      "text/plain": [
       "                                             Category  Distance\n",
       "0   Members_of_the_United_Kingdom_Parliament_for_E...  7.000000\n",
       "1                                       Living_people  8.000000\n",
       "2                           Harvard_University_alumni  8.000000\n",
       "3               Year_of_birth_missing_(living_people)  8.000000\n",
       "4                                 English_footballers  9.000000\n",
       "5                      Major_League_Baseball_pitchers  9.000000\n",
       "6                                  English_cricketers  9.000000\n",
       "7                                   Rivers_of_Romania  9.000000\n",
       "8                         The_Football_League_players       inf\n",
       "9                       Association_football_forwards       inf\n",
       "10                   Association_football_goalkeepers       inf\n",
       "11                   Association_football_midfielders       inf\n",
       "12                     Association_football_defenders       inf\n",
       "13                              Year_of_birth_unknown       inf\n",
       "14                              Year_of_death_missing       inf\n",
       "15                                Main_Belt_asteroids       inf"
      ]
     },
     "execution_count": 31,
     "metadata": {},
     "output_type": "execute_result"
    }
   ],
   "source": [
    "dfg = dfg.drop(columns=\"Unnamed: 0\")\n",
    "\n",
    "dfg1 = dfg1.drop(columns=\"Unnamed: 0\")\n",
    "\n",
    "dfg = pd.concat([dfg,dfg1])\n",
    "\n",
    "dfg=dfg.reset_index(drop=True)\n",
    "\n",
    "dfg = dfg.rename(columns={\"0\": \"Category\", \"1\": \"Distance\"})\n",
    "\n",
    "dfg = dfg.sort_values(by='Distance')\n",
    "\n",
    "dfg = dfg.reset_index(drop=True)\n",
    "dfg"
   ]
  },
  {
   "cell_type": "markdown",
   "metadata": {},
   "source": [
    "Last point: We want to keep an information, score, into each node. first, we initialized every node as string, in order to make a double check (if we still didn't pass throught that node it will be still a string, but if there are no in edges this information will be 0). This initialization will be done into G, our original graph."
   ]
  },
  {
   "cell_type": "code",
   "execution_count": 33,
   "metadata": {},
   "outputs": [],
   "source": [
    "nodes_G = G.nodes()\n",
    "for n in nodes_G:\n",
    "    G.node[n]['score'] = ''"
   ]
  },
  {
   "cell_type": "code",
   "execution_count": 61,
   "metadata": {},
   "outputs": [],
   "source": [
    "input_category='Indian_films'\n",
    "c0 = category_dict[input_category][0:2000]    \n",
    "sub = G.subgraph(c0)\n",
    "for s in sub:\n",
    "    G.node[s]['score'] = len(sub.in_edges(s))"
   ]
  },
  {
   "cell_type": "code",
   "execution_count": 62,
   "metadata": {},
   "outputs": [],
   "source": [
    "categories = dfg['Category'].values #taking all categories from the ranking dataframe "
   ]
  },
  {
   "cell_type": "code",
   "execution_count": 68,
   "metadata": {},
   "outputs": [],
   "source": [
    "l = c0 #list of nodes in the subgraph (now only input_category nodes)\n",
    "for c in categories:\n",
    "    l = l + category_dict[c]\n",
    "    sub1 = G.subgraph(l)\n",
    "    for e1 in sub1: \n",
    "        if not isinstance(G.node[e1]['score'],str):\n",
    "            continue\n",
    "        else:\n",
    "            ie1 = sub1.in_edges(e1)\n",
    "            ie1 = [el[0] for el in ie1]\n",
    "                   \n",
    "            score = 0\n",
    "            for f in ie1:\n",
    "                \n",
    "                if G.node[f]['score'] == '':\n",
    "                    score +=1\n",
    "                else:\n",
    "                    score += G.node[f]['score']\n",
    "            G.node[e1]['score'] = score\n",
    "    "
   ]
  },
  {
   "cell_type": "code",
   "execution_count": 69,
   "metadata": {},
   "outputs": [
    {
     "data": {
      "text/plain": [
       "390709"
      ]
     },
     "execution_count": 69,
     "metadata": {},
     "output_type": "execute_result"
    }
   ],
   "source": [
    "len(sub1)"
   ]
  },
  {
   "cell_type": "code",
   "execution_count": 70,
   "metadata": {},
   "outputs": [
    {
     "data": {
      "text/plain": [
       "['29286',\n",
       " '53565',\n",
       " '70274',\n",
       " '70275',\n",
       " '123378',\n",
       " '123382',\n",
       " '134667',\n",
       " '134698',\n",
       " '134750',\n",
       " '134752']"
      ]
     },
     "execution_count": 70,
     "metadata": {},
     "output_type": "execute_result"
    }
   ],
   "source": [
    "c0[0:10]"
   ]
  },
  {
   "cell_type": "code",
   "execution_count": 60,
   "metadata": {},
   "outputs": [
    {
     "data": {
      "text/plain": [
       "InEdgeDataView([('70274', '70275')])"
      ]
     },
     "execution_count": 60,
     "metadata": {},
     "output_type": "execute_result"
    }
   ],
   "source": [
    "sub.in_edges('70275')"
   ]
  },
  {
   "cell_type": "code",
   "execution_count": 71,
   "metadata": {},
   "outputs": [
    {
     "data": {
      "text/plain": [
       "1"
      ]
     },
     "execution_count": 71,
     "metadata": {},
     "output_type": "execute_result"
    }
   ],
   "source": [
    "G.node['70275']['score']"
   ]
  },
  {
   "cell_type": "code",
   "execution_count": 72,
   "metadata": {},
   "outputs": [
    {
     "data": {
      "text/plain": [
       "InEdgeDataView([('70274', '70275'), ('581966', '70275'), ('582017', '70275')])"
      ]
     },
     "execution_count": 72,
     "metadata": {},
     "output_type": "execute_result"
    }
   ],
   "source": [
    "G.in_edges('70275')"
   ]
  },
  {
   "cell_type": "code",
   "execution_count": 73,
   "metadata": {},
   "outputs": [
    {
     "data": {
      "text/plain": [
       "InEdgeDataView([('586702', '70274')])"
      ]
     },
     "execution_count": 73,
     "metadata": {},
     "output_type": "execute_result"
    }
   ],
   "source": [
    "G.in_edges('70274')"
   ]
  },
  {
   "cell_type": "code",
   "execution_count": 77,
   "metadata": {},
   "outputs": [],
   "source": [
    "for el in c0:\n",
    "    if el == '582017':\n",
    "        print('yes')"
   ]
  }
 ],
 "metadata": {
  "kernelspec": {
   "display_name": "Python 3",
   "language": "python",
   "name": "python3"
  },
  "language_info": {
   "codemirror_mode": {
    "name": "ipython",
    "version": 3
   },
   "file_extension": ".py",
   "mimetype": "text/x-python",
   "name": "python",
   "nbconvert_exporter": "python",
   "pygments_lexer": "ipython3",
   "version": "3.7.0"
  }
 },
 "nbformat": 4,
 "nbformat_minor": 2
}
